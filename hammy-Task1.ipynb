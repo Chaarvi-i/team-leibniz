{
 "cells": [
  {
   "cell_type": "code",
   "execution_count": 10,
   "metadata": {
    "scrolled": true
   },
   "outputs": [
    {
     "name": "stdout",
     "output_type": "stream",
     "text": [
      "My name is Hamail Iqbal \n",
      "My email is hi70@scarletmail.rutgers.edu \n",
      "My slack username is hammy \n",
      "My biostack is Machine Learning/Bioinformatics\n"
     ]
    }
   ],
   "source": [
    "name =\"Hamail Iqbal\"\n",
    "email = \"hi70@scarletmail.rutgers.edu\"\n",
    "slack_username = \"hammy\"\n",
    "biostack = \"Machine Learning/Bioinformatics\"\n",
    "\n",
    "print(\"My name is\", name, '\\n' \"My email is\", email, '\\n' \"My slack username is\", slack_username, '\\n' \"My biostack is\", biostack)"
   ]
  }
 ],
 "metadata": {
  "kernelspec": {
   "display_name": "Python 3",
   "language": "python",
   "name": "python3"
  },
  "language_info": {
   "codemirror_mode": {
    "name": "ipython",
    "version": 3
   },
   "file_extension": ".py",
   "mimetype": "text/x-python",
   "name": "python",
   "nbconvert_exporter": "python",
   "pygments_lexer": "ipython3",
   "version": "3.8.5"
  }
 },
 "nbformat": 4,
 "nbformat_minor": 4
}
